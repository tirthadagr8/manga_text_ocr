{
 "cells": [
  {
   "cell_type": "code",
   "execution_count": 1,
   "metadata": {},
   "outputs": [],
   "source": [
    "import cv2\n",
    "import numpy as np\n",
    "from selenium import webdriver\n",
    "from selenium.webdriver.common.keys import Keys\n",
    "from selenium.webdriver.common.by import By\n",
    "from selenium.webdriver.support.wait import WebDriverWait\n",
    "from selenium.webdriver.support import expected_conditions as EC\n",
    "import time\n",
    "import random\n",
    "import fetch\n",
    "import os\n",
    "import keyboard\n",
    "from tkinter import *\n",
    "import threading\n",
    "import glob"
   ]
  },
  {
   "cell_type": "code",
   "execution_count": 2,
   "metadata": {},
   "outputs": [
    {
     "name": "stderr",
     "output_type": "stream",
     "text": [
      "\u001b[32m2023-05-29 21:30:27.066\u001b[0m | \u001b[1mINFO    \u001b[0m | \u001b[36mmanga_ocr.ocr\u001b[0m:\u001b[36m__init__\u001b[0m:\u001b[36m13\u001b[0m - \u001b[1mLoading OCR model from kha-white/manga-ocr-base\u001b[0m\n",
      "c:\\Users\\tirth\\anaconda3\\lib\\site-packages\\transformers\\models\\vit\\feature_extraction_vit.py:28: FutureWarning: The class ViTFeatureExtractor is deprecated and will be removed in version 5 of Transformers. Please use ViTImageProcessor instead.\n",
      "  warnings.warn(\n",
      "\u001b[32m2023-05-29 21:30:37.346\u001b[0m | \u001b[1mINFO    \u001b[0m | \u001b[36mmanga_ocr.ocr\u001b[0m:\u001b[36m__init__\u001b[0m:\u001b[36m19\u001b[0m - \u001b[1mUsing CUDA\u001b[0m\n",
      "\u001b[32m2023-05-29 21:30:40.257\u001b[0m | \u001b[1mINFO    \u001b[0m | \u001b[36mmanga_ocr.ocr\u001b[0m:\u001b[36m__init__\u001b[0m:\u001b[36m29\u001b[0m - \u001b[1mOCR ready\u001b[0m\n"
     ]
    }
   ],
   "source": [
    "from manga_ocr import MangaOcr\n",
    "mocr=MangaOcr()"
   ]
  },
  {
   "cell_type": "code",
   "execution_count": 3,
   "metadata": {},
   "outputs": [],
   "source": [
    "def listdirs(rootdir,dirs):\n",
    "    for file in os.listdir(rootdir):\n",
    "        d = os.path.join(rootdir, file)\n",
    "        if os.path.isdir(d):\n",
    "            dirs.append(d)\n",
    "            listdirs(d,dirs)\n",
    "\n",
    "current_dir=os.getcwd()\n",
    "dirs=[]\n",
    "listdirs(current_dir,dirs)\n",
    "images = []\n",
    "for i in dirs:\n",
    "    images = list(images)+list([os.path.join(i, file)\n",
    "        for file in os.listdir(i)\n",
    "        if file.endswith('.png')])"
   ]
  },
  {
   "cell_type": "code",
   "execution_count": 23,
   "metadata": {},
   "outputs": [],
   "source": [
    "cropping = False\n",
    "x_start, y_start, x_end, y_end = 0, 0, 0, 0\n",
    "image = cv2.imread(images[0])\n",
    "image=cv2.resize(image,(900,780))  ## Extra\n",
    "oriImage = image.copy()\n",
    "Destroy=False\n",
    "Count=1"
   ]
  },
  {
   "cell_type": "code",
   "execution_count": 24,
   "metadata": {},
   "outputs": [],
   "source": [
    "def Next():\n",
    "    global Count,image,oriImage\n",
    "    Count+=1\n",
    "    if Count>=len(images):\n",
    "        Count=len(images)-1\n",
    "    image=cv2.imread(images[Count])\n",
    "    image=cv2.resize(image,(900,780))  ## Extra\n",
    "    oriImage=image.copy()\n",
    "    # print(str(Count)+'.png')"
   ]
  },
  {
   "cell_type": "code",
   "execution_count": 25,
   "metadata": {},
   "outputs": [],
   "source": [
    "def Prev():\n",
    "    global Count,image,oriImage\n",
    "    Count-=1\n",
    "    if Count<0:\n",
    "        Count=0\n",
    "    image=cv2.imread(images[Count])\n",
    "    image=cv2.resize(image,(900,780))  ## Extra\n",
    "    oriImage=image.copy()\n",
    "    # print(str(Count)+'.png')"
   ]
  },
  {
   "cell_type": "code",
   "execution_count": 7,
   "metadata": {},
   "outputs": [],
   "source": [
    "def mouse_crop(event, x, y, flags, param):\n",
    "    # grab references to the global variables\n",
    "    global x_start, y_start, x_end, y_end, cropping,Count\n",
    "\n",
    "    # if the left mouse button was DOWN, start RECORDING\n",
    "    # (x, y) coordinates and indicate that cropping is being\n",
    "    if event == cv2.EVENT_LBUTTONDOWN:\n",
    "        x_start, y_start, x_end, y_end = x, y, x, y\n",
    "        cropping = True\n",
    "    # Mouse is Moving\n",
    "    elif event == cv2.EVENT_MOUSEMOVE:\n",
    "        if cropping == True:\n",
    "            x_end, y_end = x, y\n",
    "    # if the left mouse button was released\n",
    "    elif event == cv2.EVENT_LBUTTONUP:\n",
    "        # record the ending (x, y) coordinates\n",
    "        x_end, y_end = x, y\n",
    "        cropping = False # cropping is finished\n",
    "        refPoint = [(x_start, y_start), (x_end, y_end)]\n",
    "        if len(refPoint) == 2: #when two points were found\n",
    "            roi = oriImage[refPoint[0][1]:refPoint[1][1], refPoint[0][0]:refPoint[1][0]]\n",
    "            cv2.imwrite(\"Cropped.png\",roi)\n",
    "            s=mocr('cropped.png')\n",
    "            trans=fetch.fetch_data(s)\n",
    "            print(s,\"---->\",trans)\n",
    "            os.remove('Cropped.png')\n",
    "            cv2.imshow(\"cropped\", roi)"
   ]
  },
  {
   "cell_type": "code",
   "execution_count": 8,
   "metadata": {},
   "outputs": [],
   "source": [
    "def dest():\n",
    "    global Destroy\n",
    "    Destroy=True"
   ]
  },
  {
   "cell_type": "code",
   "execution_count": 9,
   "metadata": {},
   "outputs": [],
   "source": [
    "def thread1():\n",
    "    cv2.namedWindow(\"image\")\n",
    "    cv2.setMouseCallback(\"image\", mouse_crop)\n",
    "    while Destroy==False:\n",
    "        # if Destroy:\n",
    "        #     break\n",
    "        i = image.copy()\n",
    "        if not cropping:\n",
    "            cv2.imshow(\"image\", image)\n",
    "\n",
    "        elif cropping:\n",
    "            cv2.rectangle(i, (x_start, y_start), (x_end, y_end), (255, 0, 0), 2)\n",
    "            cv2.imshow(\"image\", i)\n",
    "        \n",
    "        cv2.waitKey(1)\n",
    "    cv2.destroyAllWindows()"
   ]
  },
  {
   "cell_type": "code",
   "execution_count": 10,
   "metadata": {},
   "outputs": [],
   "source": [
    "def thread2():\n",
    "    root = Tk()\n",
    "    root.geometry('300x100')\n",
    "    p = Button(root, text = 'Previous', bd = '5',\n",
    "                            command = Prev)\n",
    "    p.pack(side = 'left')\n",
    "\n",
    "    n=Button(root, text = 'Next', bd = '5',\n",
    "                            command = Next)\n",
    "    n.pack(side = 'right')\n",
    "\n",
    "    b=Button(root, text = 'Destroy', bd = '5',\n",
    "                            command = lambda:[dest(),root.destroy()])\n",
    "    b.pack(side = 'top')\n",
    "    root.mainloop()"
   ]
  },
  {
   "cell_type": "code",
   "execution_count": 11,
   "metadata": {},
   "outputs": [],
   "source": [
    "# thread2()"
   ]
  },
  {
   "cell_type": "code",
   "execution_count": 26,
   "metadata": {},
   "outputs": [
    {
     "name": "stdout",
     "output_type": "stream",
     "text": [
      "変じゃないよな俺 ----> I'm not weird, am I?\n",
      "最後の第二に鍛えた。帰還者だ。学園でする ----> Forged in the last second. Returnees. I'll do it at the academy.\n",
      "俺九条恭弥は ----> I, Kyoya Kujo...\n",
      "気がついたらそこにいた ----> I found myself there.\n",
      "ここは．．． ----> This place is ...\n",
      "どこなんだ．．．？ ----> Where are you ...?\n",
      "ようこそ勇者よ ----> Welcome, my brave men.\n",
      "そなたを．．．ずっと待っていたぞ ----> I have been waiting for you... I've been waiting for you.\n",
      "さぁ ----> Come on.\n",
      "わしを殺しておくれーー ----> Please kill me!\n",
      "そして ----> and\n",
      "こいつと出会ったんだ ----> I met this guy.\n",
      "二年後 ----> two years later\n",
      "二年後 ----> two years later\n",
      "ここが．．．「国立ユグラシア学園」： ----> This is the place... National Yugrasia Academy:\n",
      "へ．．．変じゃないよな俺．．． ----> Heh ... I'm not weird ...\n",
      "ここにいるのみんな新入生だろ．．．悪目立ちしたくないんだよなぁ．．． ----> We're all freshmen here ... I don't want to make a bad impression...\n",
      "くっくっへ．．．いよるひよっこ勇者どもめが！ ----> Kkkkkkkkkkkkkkkkkkkkkkkkkkkkkk... You chickenshit heroes!\n",
      "あっ ----> Ah!\n",
      "おいフェリス顔出すなって言ってるだろ！ ----> Hey Ferris, I told you not to show your face!\n",
      "なんじゃ！ケチケチするでないこの中は退屈なのじゃ？ ----> What is it? Don't be stingy, it's a bit boring in here, isn't it?\n",
      "いいからひっこんでろ俺が変な奴に見えるだろ！ ----> Just stay out of it, you'll make me look like a weirdo!\n",
      "まったく．．．人目ばかり気にしおって ----> You know... All you care about is being seen.\n",
      "あれか？”こみゅしょうとかいうやつか？ ----> Is that it?\" Is that someone called \"Komitsyusho\"?\n",
      "し仕方ないだろ．． ----> I don't have a choice ... .\n",
      "お前以外と会うの何年ぶりだと思ってんだよ ----> You know how long it's been since I've seen anyone but you?\n",
      "大げさなたかが三年じゃろ？ ----> Don't exaggerate, it's only been three years.\n",
      "そりゃ現実世界の話だろ ----> Well, that's the real world.\n",
      "――とにかく！大人しくしてろ！ ----> --I'm not going to let you do this to me! Be a big boy!\n",
      "わし猫だからわからにゃいのう ----> I'm a cat, so I don't know.\n",
      "そういえば、 ----> Speaking of which,\n",
      "あっコラ！逃げんな！ ----> Oh, no! Don't run away!\n",
      "わーーーっ！ ----> Woohoo!\n",
      "猫ちゃんだ！ ----> Cat!\n",
      "かわいい～！飼い猫ですか？いいなぁ～ ----> Cute~! Is it your cat? I love it!\n",
      "まぁ．．．速攻でバレた．． ----> Well... I was caught off guard...\n",
      "は．．．はぁまぁ．．．速攻でバレた．． ----> Ha .... Oh my god ... I was exposed so fast ....\n",
      "きキミも”帰還者”なの．．．？ ----> Are you a returnee, too?\n",
      "はい！ ----> Yes!\n",
      "私伊万里小毬って言います！新入生です！ ----> My name is Komari Imari! I am a new student!\n",
      "ホラ招待状だってちゃんと．．． ----> You know, the invitations are right on the money...\n",
      "あれ？ ----> Huh?\n",
      "あれれ？ ----> Huh?\n",
      "ない．．．ないよぉ．．． ----> No ... No ...\n",
      "お．．．おちついて．．． ----> Oh... Calm down ...\n",
      "せわしないなこの子 ----> She's in a hurry, isn't she?\n"
     ]
    }
   ],
   "source": [
    "if __name__=='__main__':\n",
    "    global Destroy\n",
    "    Destroy=False\n",
    "    t1=threading.Thread(target=thread1)\n",
    "    t2=threading.Thread(target=thread2)\n",
    "    t1.start()\n",
    "    t2.start()\n"
   ]
  },
  {
   "cell_type": "code",
   "execution_count": null,
   "metadata": {},
   "outputs": [],
   "source": []
  }
 ],
 "metadata": {
  "kernelspec": {
   "display_name": "base",
   "language": "python",
   "name": "python3"
  },
  "language_info": {
   "codemirror_mode": {
    "name": "ipython",
    "version": 3
   },
   "file_extension": ".py",
   "mimetype": "text/x-python",
   "name": "python",
   "nbconvert_exporter": "python",
   "pygments_lexer": "ipython3",
   "version": "3.9.13"
  },
  "orig_nbformat": 4
 },
 "nbformat": 4,
 "nbformat_minor": 2
}
