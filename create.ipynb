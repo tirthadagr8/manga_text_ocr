{
 "cells": [
  {
   "cell_type": "code",
   "execution_count": 1,
   "metadata": {},
   "outputs": [],
   "source": [
    "import cv2\n",
    "import numpy as np\n",
    "from selenium import webdriver\n",
    "from selenium.webdriver.common.keys import Keys\n",
    "from selenium.webdriver.common.by import By\n",
    "from selenium.webdriver.support.wait import WebDriverWait\n",
    "from selenium.webdriver.support import expected_conditions as EC\n",
    "import time\n",
    "import random\n",
    "import fetch\n",
    "import os\n",
    "import keyboard\n",
    "from tkinter import *\n",
    "import threading"
   ]
  },
  {
   "cell_type": "code",
   "execution_count": 2,
   "metadata": {},
   "outputs": [
    {
     "name": "stderr",
     "output_type": "stream",
     "text": [
      "\u001b[32m2023-05-22 18:33:33.614\u001b[0m | \u001b[1mINFO    \u001b[0m | \u001b[36mmanga_ocr.ocr\u001b[0m:\u001b[36m__init__\u001b[0m:\u001b[36m13\u001b[0m - \u001b[1mLoading OCR model from kha-white/manga-ocr-base\u001b[0m\n",
      "c:\\Users\\tirth\\anaconda3\\lib\\site-packages\\transformers\\models\\vit\\feature_extraction_vit.py:28: FutureWarning: The class ViTFeatureExtractor is deprecated and will be removed in version 5 of Transformers. Please use ViTImageProcessor instead.\n",
      "  warnings.warn(\n",
      "\u001b[32m2023-05-22 18:33:43.015\u001b[0m | \u001b[1mINFO    \u001b[0m | \u001b[36mmanga_ocr.ocr\u001b[0m:\u001b[36m__init__\u001b[0m:\u001b[36m19\u001b[0m - \u001b[1mUsing CUDA\u001b[0m\n",
      "\u001b[32m2023-05-22 18:33:46.191\u001b[0m | \u001b[1mINFO    \u001b[0m | \u001b[36mmanga_ocr.ocr\u001b[0m:\u001b[36m__init__\u001b[0m:\u001b[36m29\u001b[0m - \u001b[1mOCR ready\u001b[0m\n"
     ]
    }
   ],
   "source": [
    "from manga_ocr import MangaOcr\n",
    "mocr=MangaOcr()"
   ]
  },
  {
   "cell_type": "code",
   "execution_count": 3,
   "metadata": {},
   "outputs": [],
   "source": [
    "cropping = False\n",
    "x_start, y_start, x_end, y_end = 0, 0, 0, 0\n",
    "image = cv2.imread('1.png')\n",
    "oriImage = image.copy()\n",
    "Destroy=False\n",
    "Count=1"
   ]
  },
  {
   "cell_type": "code",
   "execution_count": 4,
   "metadata": {},
   "outputs": [],
   "source": [
    "def Next():\n",
    "    global Count,image,oriImage\n",
    "    Count+=1\n",
    "    if Count>4:\n",
    "        Count=4\n",
    "    image=cv2.imread(str(Count)+'.png')\n",
    "    oriImage=image.copy()\n",
    "    # print(str(Count)+'.png')"
   ]
  },
  {
   "cell_type": "code",
   "execution_count": 5,
   "metadata": {},
   "outputs": [],
   "source": [
    "def Prev():\n",
    "    global Count,image,oriImage\n",
    "    Count-=1\n",
    "    if Count<1:\n",
    "        Count=1\n",
    "    image=cv2.imread(str(Count)+'.png')\n",
    "    oriImage=image.copy()\n",
    "    # print(str(Count)+'.png')"
   ]
  },
  {
   "cell_type": "code",
   "execution_count": 6,
   "metadata": {},
   "outputs": [],
   "source": [
    "def mouse_crop(event, x, y, flags, param):\n",
    "    # grab references to the global variables\n",
    "    global x_start, y_start, x_end, y_end, cropping,Count\n",
    "\n",
    "    # if the left mouse button was DOWN, start RECORDING\n",
    "    # (x, y) coordinates and indicate that cropping is being\n",
    "    if event == cv2.EVENT_LBUTTONDOWN:\n",
    "        x_start, y_start, x_end, y_end = x, y, x, y\n",
    "        cropping = True\n",
    "    # Mouse is Moving\n",
    "    elif event == cv2.EVENT_MOUSEMOVE:\n",
    "        if cropping == True:\n",
    "            x_end, y_end = x, y\n",
    "    # if the left mouse button was released\n",
    "    elif event == cv2.EVENT_LBUTTONUP:\n",
    "        # record the ending (x, y) coordinates\n",
    "        x_end, y_end = x, y\n",
    "        cropping = False # cropping is finished\n",
    "        refPoint = [(x_start, y_start), (x_end, y_end)]\n",
    "        if len(refPoint) == 2: #when two points were found\n",
    "            roi = oriImage[refPoint[0][1]:refPoint[1][1], refPoint[0][0]:refPoint[1][0]]\n",
    "            cv2.imwrite(\"Cropped.png\",roi)\n",
    "            s=mocr('cropped.png')\n",
    "            trans=fetch.fetch_data(s)\n",
    "            print(s,\"---->\",trans)\n",
    "            os.remove('Cropped.png')\n",
    "            cv2.imshow(\"cropped\", roi)"
   ]
  },
  {
   "cell_type": "code",
   "execution_count": 7,
   "metadata": {},
   "outputs": [],
   "source": [
    "def dest():\n",
    "    global Destroy\n",
    "    Destroy=True"
   ]
  },
  {
   "cell_type": "code",
   "execution_count": 8,
   "metadata": {},
   "outputs": [],
   "source": [
    "def thread1():\n",
    "    cv2.namedWindow(\"image\")\n",
    "    cv2.setMouseCallback(\"image\", mouse_crop)\n",
    "    while Destroy==False:\n",
    "        # if Destroy:\n",
    "        #     break\n",
    "        i = image.copy()\n",
    "\n",
    "        if not cropping:\n",
    "            cv2.imshow(\"image\", image)\n",
    "\n",
    "        elif cropping:\n",
    "            cv2.rectangle(i, (x_start, y_start), (x_end, y_end), (255, 0, 0), 2)\n",
    "            cv2.imshow(\"image\", i)\n",
    "        \n",
    "        cv2.waitKey(1)"
   ]
  },
  {
   "cell_type": "code",
   "execution_count": 9,
   "metadata": {},
   "outputs": [],
   "source": [
    "def thread2():\n",
    "    root = Tk()\n",
    "    root.geometry('300x100')\n",
    "    p = Button(root, text = 'Previous', bd = '5',\n",
    "                            command = Prev)\n",
    "    p.pack(side = 'left')\n",
    "\n",
    "    n=Button(root, text = 'Next', bd = '5',\n",
    "                            command = Next)\n",
    "    n.pack(side = 'right')\n",
    "\n",
    "    b=Button(root, text = 'Destroy', bd = '5',\n",
    "                            command = lambda:[dest(),root.destroy()])\n",
    "    b.pack(side = 'top')\n",
    "    root.mainloop()"
   ]
  },
  {
   "cell_type": "code",
   "execution_count": 10,
   "metadata": {},
   "outputs": [],
   "source": [
    "# thread2()"
   ]
  },
  {
   "cell_type": "code",
   "execution_count": 11,
   "metadata": {},
   "outputs": [
    {
     "name": "stdout",
     "output_type": "stream",
     "text": [
      "体力が回復したわけではあるまい？ ----> You have not recovered your strength, have you?\n",
      "ーーブラムどうやら傷は治したようだが．．． ----> Blum, it looks like the wound has healed...\n",
      "体力が回復したわけではあるまい？ ----> You have not recovered your strength, have you?\n",
      "そして完全励起の光も消えている ----> And the light of full excitation is gone.\n",
      "もう聖剣技は使えまいそれは即ち天の衣を破る術を持たぬということ ----> He can no longer use the holy sword technique, which means he has no way to break the robe of heaven.\n",
      "そんな貴様など恐るるに足りん！ ----> I am not afraid of you!\n",
      "なんかなんだよなぁ．．．はぁ、はぁっ、そんなことですよねー。いいんだ。いや、いやいや別なら出現だからあるだろう ----> What's that something ... . Ha, ha, that's what it is! It's okay. No, no, no, no, if it's something else, it's an appearance, so there you have it.\n"
     ]
    }
   ],
   "source": [
    "if __name__=='__main__':\n",
    "    global Destroy\n",
    "    Destroy=False\n",
    "    t1=threading.Thread(target=thread1)\n",
    "    t2=threading.Thread(target=thread2)\n",
    "    t1.start()\n",
    "    t2.start()\n"
   ]
  }
 ],
 "metadata": {
  "kernelspec": {
   "display_name": "base",
   "language": "python",
   "name": "python3"
  },
  "language_info": {
   "codemirror_mode": {
    "name": "ipython",
    "version": 3
   },
   "file_extension": ".py",
   "mimetype": "text/x-python",
   "name": "python",
   "nbconvert_exporter": "python",
   "pygments_lexer": "ipython3",
   "version": "3.9.13"
  },
  "orig_nbformat": 4
 },
 "nbformat": 4,
 "nbformat_minor": 2
}
