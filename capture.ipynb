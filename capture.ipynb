{
 "cells": [
  {
   "cell_type": "code",
   "execution_count": 10,
   "metadata": {},
   "outputs": [],
   "source": [
    "import cv2\n",
    "import numpy as np\n",
    "from selenium import webdriver\n",
    "from selenium.webdriver.common.keys import Keys\n",
    "from selenium.webdriver.common.by import By\n",
    "from selenium.webdriver.support.wait import WebDriverWait\n",
    "from selenium.webdriver.support import expected_conditions as EC\n",
    "import time\n",
    "import requests\n",
    "import random\n",
    "import os\n",
    "import keyboard\n",
    "from tkinter import *\n",
    "import threading"
   ]
  },
  {
   "cell_type": "code",
   "execution_count": 11,
   "metadata": {},
   "outputs": [],
   "source": [
    "link='https://raw.senmanga.com/maou-ni-natta-node-dungeon-tsukutte-jingai-musume-to-honobono-suru'"
   ]
  },
  {
   "cell_type": "code",
   "execution_count": 3,
   "metadata": {},
   "outputs": [],
   "source": [
    "cur=os.getcwd()\n",
    "lk=link.split('/')\n",
    "manga=cur+'\\\\'+lk[len(lk)-1]\n",
    "os.mkdir(manga)\n",
    "os.chdir(manga)"
   ]
  },
  {
   "cell_type": "code",
   "execution_count": 4,
   "metadata": {},
   "outputs": [
    {
     "name": "stderr",
     "output_type": "stream",
     "text": [
      "C:\\Users\\tirth\\AppData\\Local\\Temp\\ipykernel_1296\\3599368964.py:6: DeprecationWarning: executable_path has been deprecated, please pass in a Service object\n",
      "  driver=webdriver.Chrome(executable_path=driver_path,options=op)\n"
     ]
    }
   ],
   "source": [
    "driver_path = \"C:\\\\Program Files\\\\BraveSoftware\\\\Brave-Browser\\\\Application\\\\chromedriver.exe\"\n",
    "brave_path = \"C:\\\\Program Files\\\\BraveSoftware\\\\Brave-Browser\\\\Application\\\\brave.exe\"\n",
    "op = webdriver.ChromeOptions()\n",
    "op.binary_location=brave_path\n",
    "# op.add_argument('headless')\n",
    "driver=webdriver.Chrome(executable_path=driver_path,options=op)"
   ]
  },
  {
   "cell_type": "code",
   "execution_count": 5,
   "metadata": {},
   "outputs": [],
   "source": [
    "driver.get(link)"
   ]
  },
  {
   "cell_type": "code",
   "execution_count": 6,
   "metadata": {},
   "outputs": [],
   "source": [
    "chapters=driver.find_element(By.XPATH,\"//ul[@class='chapter-list']\")"
   ]
  },
  {
   "cell_type": "code",
   "execution_count": 7,
   "metadata": {},
   "outputs": [],
   "source": [
    "chapter=chapters.text.split('\\n')"
   ]
  },
  {
   "cell_type": "code",
   "execution_count": 8,
   "metadata": {},
   "outputs": [],
   "source": [
    "rem=[]\n",
    "for i in range(len(chapter)):\n",
    "    chapter[i]=chapter[i].replace('Chapter ','')\n",
    "    if ord(chapter[i][0])>57:\n",
    "        rem.append(chapter[i])\n",
    "for i in rem:\n",
    "    chapter.remove(i)\n",
    "chapter.reverse()"
   ]
  },
  {
   "cell_type": "code",
   "execution_count": 9,
   "metadata": {},
   "outputs": [
    {
     "ename": "NoSuchWindowException",
     "evalue": "Message: no such window: target window already closed\nfrom unknown error: web view not found\n  (Session info: chrome=113.0.5672.126)\nStacktrace:\nBacktrace:\n\tGetHandleVerifier [0x01088893+48451]\n\t(No symbol) [0x0101B8A1]\n\t(No symbol) [0x00F25058]\n\t(No symbol) [0x00F0D073]\n\t(No symbol) [0x00F6DEBB]\n\t(No symbol) [0x00F7BFD3]\n\t(No symbol) [0x00F6A0B6]\n\t(No symbol) [0x00F47E08]\n\t(No symbol) [0x00F48F2D]\n\tGetHandleVerifier [0x012E8E3A+2540266]\n\tGetHandleVerifier [0x01328959+2801161]\n\tGetHandleVerifier [0x0132295C+2776588]\n\tGetHandleVerifier [0x01112280+612144]\n\t(No symbol) [0x01024F6C]\n\t(No symbol) [0x010211D8]\n\t(No symbol) [0x010212BB]\n\t(No symbol) [0x01014857]\n\tBaseThreadInitThunk [0x76247D59+25]\n\tRtlInitializeExceptionChain [0x779BB74B+107]\n\tRtlClearBits [0x779BB6CF+191]\n",
     "output_type": "error",
     "traceback": [
      "\u001b[1;31m---------------------------------------------------------------------------\u001b[0m",
      "\u001b[1;31mNoSuchWindowException\u001b[0m                     Traceback (most recent call last)",
      "Cell \u001b[1;32mIn[9], line 13\u001b[0m\n\u001b[0;32m     11\u001b[0m \u001b[39mfor\u001b[39;00m j \u001b[39min\u001b[39;00m \u001b[39mrange\u001b[39m(\u001b[39mlen\u001b[39m(page)):\n\u001b[0;32m     12\u001b[0m     driver\u001b[39m.\u001b[39mget(\u001b[39mnext\u001b[39m\u001b[39m+\u001b[39m\u001b[39m'\u001b[39m\u001b[39m/\u001b[39m\u001b[39m'\u001b[39m\u001b[39m+\u001b[39m\u001b[39mstr\u001b[39m(j\u001b[39m+\u001b[39m\u001b[39m1\u001b[39m))\n\u001b[1;32m---> 13\u001b[0m     img\u001b[39m=\u001b[39mdriver\u001b[39m.\u001b[39;49mfind_element(By\u001b[39m.\u001b[39;49mXPATH,\u001b[39m\"\u001b[39;49m\u001b[39m//img[@class=\u001b[39;49m\u001b[39m'\u001b[39;49m\u001b[39mpicture\u001b[39;49m\u001b[39m'\u001b[39;49m\u001b[39m]\u001b[39;49m\u001b[39m\"\u001b[39;49m)\n\u001b[0;32m     14\u001b[0m     source\u001b[39m=\u001b[39mimg\u001b[39m.\u001b[39mget_attribute(\u001b[39m'\u001b[39m\u001b[39msrc\u001b[39m\u001b[39m'\u001b[39m)\n\u001b[0;32m     15\u001b[0m     response\u001b[39m=\u001b[39mrequests\u001b[39m.\u001b[39mget(source)\n",
      "File \u001b[1;32mc:\\Users\\tirth\\anaconda3\\lib\\site-packages\\selenium\\webdriver\\remote\\webdriver.py:830\u001b[0m, in \u001b[0;36mWebDriver.find_element\u001b[1;34m(self, by, value)\u001b[0m\n\u001b[0;32m    827\u001b[0m     by \u001b[39m=\u001b[39m By\u001b[39m.\u001b[39mCSS_SELECTOR\n\u001b[0;32m    828\u001b[0m     value \u001b[39m=\u001b[39m \u001b[39mf\u001b[39m\u001b[39m'\u001b[39m\u001b[39m[name=\u001b[39m\u001b[39m\"\u001b[39m\u001b[39m{\u001b[39;00mvalue\u001b[39m}\u001b[39;00m\u001b[39m\"\u001b[39m\u001b[39m]\u001b[39m\u001b[39m'\u001b[39m\n\u001b[1;32m--> 830\u001b[0m \u001b[39mreturn\u001b[39;00m \u001b[39mself\u001b[39;49m\u001b[39m.\u001b[39;49mexecute(Command\u001b[39m.\u001b[39;49mFIND_ELEMENT, {\u001b[39m\"\u001b[39;49m\u001b[39musing\u001b[39;49m\u001b[39m\"\u001b[39;49m: by, \u001b[39m\"\u001b[39;49m\u001b[39mvalue\u001b[39;49m\u001b[39m\"\u001b[39;49m: value})[\u001b[39m\"\u001b[39m\u001b[39mvalue\u001b[39m\u001b[39m\"\u001b[39m]\n",
      "File \u001b[1;32mc:\\Users\\tirth\\anaconda3\\lib\\site-packages\\selenium\\webdriver\\remote\\webdriver.py:440\u001b[0m, in \u001b[0;36mWebDriver.execute\u001b[1;34m(self, driver_command, params)\u001b[0m\n\u001b[0;32m    438\u001b[0m response \u001b[39m=\u001b[39m \u001b[39mself\u001b[39m\u001b[39m.\u001b[39mcommand_executor\u001b[39m.\u001b[39mexecute(driver_command, params)\n\u001b[0;32m    439\u001b[0m \u001b[39mif\u001b[39;00m response:\n\u001b[1;32m--> 440\u001b[0m     \u001b[39mself\u001b[39;49m\u001b[39m.\u001b[39;49merror_handler\u001b[39m.\u001b[39;49mcheck_response(response)\n\u001b[0;32m    441\u001b[0m     response[\u001b[39m\"\u001b[39m\u001b[39mvalue\u001b[39m\u001b[39m\"\u001b[39m] \u001b[39m=\u001b[39m \u001b[39mself\u001b[39m\u001b[39m.\u001b[39m_unwrap_value(response\u001b[39m.\u001b[39mget(\u001b[39m\"\u001b[39m\u001b[39mvalue\u001b[39m\u001b[39m\"\u001b[39m, \u001b[39mNone\u001b[39;00m))\n\u001b[0;32m    442\u001b[0m     \u001b[39mreturn\u001b[39;00m response\n",
      "File \u001b[1;32mc:\\Users\\tirth\\anaconda3\\lib\\site-packages\\selenium\\webdriver\\remote\\errorhandler.py:245\u001b[0m, in \u001b[0;36mErrorHandler.check_response\u001b[1;34m(self, response)\u001b[0m\n\u001b[0;32m    243\u001b[0m         alert_text \u001b[39m=\u001b[39m value[\u001b[39m\"\u001b[39m\u001b[39malert\u001b[39m\u001b[39m\"\u001b[39m]\u001b[39m.\u001b[39mget(\u001b[39m\"\u001b[39m\u001b[39mtext\u001b[39m\u001b[39m\"\u001b[39m)\n\u001b[0;32m    244\u001b[0m     \u001b[39mraise\u001b[39;00m exception_class(message, screen, stacktrace, alert_text)  \u001b[39m# type: ignore[call-arg]  # mypy is not smart enough here\u001b[39;00m\n\u001b[1;32m--> 245\u001b[0m \u001b[39mraise\u001b[39;00m exception_class(message, screen, stacktrace)\n",
      "\u001b[1;31mNoSuchWindowException\u001b[0m: Message: no such window: target window already closed\nfrom unknown error: web view not found\n  (Session info: chrome=113.0.5672.126)\nStacktrace:\nBacktrace:\n\tGetHandleVerifier [0x01088893+48451]\n\t(No symbol) [0x0101B8A1]\n\t(No symbol) [0x00F25058]\n\t(No symbol) [0x00F0D073]\n\t(No symbol) [0x00F6DEBB]\n\t(No symbol) [0x00F7BFD3]\n\t(No symbol) [0x00F6A0B6]\n\t(No symbol) [0x00F47E08]\n\t(No symbol) [0x00F48F2D]\n\tGetHandleVerifier [0x012E8E3A+2540266]\n\tGetHandleVerifier [0x01328959+2801161]\n\tGetHandleVerifier [0x0132295C+2776588]\n\tGetHandleVerifier [0x01112280+612144]\n\t(No symbol) [0x01024F6C]\n\t(No symbol) [0x010211D8]\n\t(No symbol) [0x010212BB]\n\t(No symbol) [0x01014857]\n\tBaseThreadInitThunk [0x76247D59+25]\n\tRtlInitializeExceptionChain [0x779BB74B+107]\n\tRtlClearBits [0x779BB6CF+191]\n"
     ]
    }
   ],
   "source": [
    "current_dir=os.getcwd()\n",
    "for i in chapter:\n",
    "    name=current_dir+'\\\\'+'Chapter '+str(i)\n",
    "    os.mkdir(name)\n",
    "    os.chdir(name)\n",
    "\n",
    "    next=link+'/'+i\n",
    "    driver.get(next)\n",
    "    pages=driver.find_element(By.XPATH,\"//select[@class='custom-select page-list']\")\n",
    "    page=pages.text.split('\\n')\n",
    "    for j in range(len(page)):\n",
    "        driver.get(next+'/'+str(j+1))\n",
    "        img=driver.find_element(By.XPATH,\"//img[@class='picture']\")\n",
    "        source=img.get_attribute('src')\n",
    "        response=requests.get(source)\n",
    "        fp=open(str(i)*(j+1)+'.png','wb')\n",
    "        fp.write(response.content)\n",
    "        fp.close()\n",
    "    os.chdir(current_dir)\n",
    "    "
   ]
  },
  {
   "cell_type": "code",
   "execution_count": null,
   "metadata": {},
   "outputs": [],
   "source": []
  }
 ],
 "metadata": {
  "kernelspec": {
   "display_name": "base",
   "language": "python",
   "name": "python3"
  },
  "language_info": {
   "codemirror_mode": {
    "name": "ipython",
    "version": 3
   },
   "file_extension": ".py",
   "mimetype": "text/x-python",
   "name": "python",
   "nbconvert_exporter": "python",
   "pygments_lexer": "ipython3",
   "version": "3.9.13"
  },
  "orig_nbformat": 4
 },
 "nbformat": 4,
 "nbformat_minor": 2
}
